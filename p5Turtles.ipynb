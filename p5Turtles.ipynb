{
 "cells": [
  {
   "cell_type": "markdown",
   "metadata": {},
   "source": [
    "Testing a P5 Javascript magic in a Python kernel:"
   ]
  },
  {
   "cell_type": "code",
   "execution_count": 78,
   "metadata": {},
   "outputs": [
    {
     "data": {
      "text/html": [
       "\n",
       "        <iframe\n",
       "            width=\"100%\"\n",
       "            height=\"500\"\n",
       "            src=\"turtles.html\"\n",
       "            frameborder=\"0\"\n",
       "            allowfullscreen\n",
       "            \n",
       "        ></iframe>\n",
       "        "
      ],
      "text/plain": [
       "<IPython.lib.display.IFrame at 0x7f82a75c3b20>"
      ]
     },
     "execution_count": 78,
     "metadata": {},
     "output_type": "execute_result"
    }
   ],
   "source": [
    "%%p5\n",
    "\n",
    "\n",
    "  class Turtle {\n",
    "  constructor(x,y)\n",
    "      { \n",
    "          this.x=x;\n",
    "          this.y=y;\n",
    "          this.dir=Math.random() * 3.1415*2;\n",
    "      }\n",
    "  draw() \n",
    "      {\n",
    "        circle(this.x, this.y, 15);\n",
    "        line(this.x,this.y,this.x+20*Math.cos(this.dir),this.y+20*Math.sin(this.dir))\n",
    "      }\n",
    "  move()\n",
    "      {\n",
    "       let dx=3*Math.cos(this.dir);\n",
    "       let dy=3*Math.sin(this.dir)\n",
    "       if(this.x+dx>20 && this.x+dx<380 && this.y+dy>20 && this.y+dy<380)\n",
    "          {\n",
    "          this.x=this.x+dx;\n",
    "          this.y=this.y+dy;\n",
    "          }\n",
    "          else\n",
    "          {\n",
    "           this.dir=Math.random() * 3.1415*2;  \n",
    "          }\n",
    "      }\n",
    "  \n",
    "}\n",
    "var myTurtles = new Array();\n",
    "var nTurtles=5;\n",
    "for(let it=0;it<nTurtles;it++)\n",
    "{\n",
    "let x=20+Math.floor(Math.random() * 360);\n",
    "let y=20+Math.floor(Math.random() * 360);\n",
    "myTurtles.push(new Turtle(x,y));\n",
    "}\n",
    "var it=0;  \n",
    "  function setup () {\n",
    "    createCanvas(400, 400);\n",
    "    \n",
    "    //console.log(x);\n",
    "    stroke('red');\n",
    "    rect(0,0,400,400);\n",
    "    //circle(x-10,y-10,15);\n",
    "    stroke('blue');\n",
    "  };\n",
    "\n",
    "  function draw () {\n",
    "    clear();\n",
    "     stroke('red');\n",
    "    rect(0,0,400,400);\n",
    "    //circle(x-10,y-10,15);\n",
    "    stroke('blue');\n",
    "    var myTurtle;\n",
    "    for(let i=0;i<nTurtles;i++)\n",
    "    {\n",
    "     myTurtles[i].draw();  \n",
    "     myTurtles[i].move();\n",
    "    }\n",
    "    it=it+1;\n",
    "    if(it>500)\n",
    "      noLoop();\n",
    "  };"
   ]
  },
  {
   "cell_type": "markdown",
   "metadata": {},
   "source": [
    "The magic:"
   ]
  },
  {
   "cell_type": "code",
   "execution_count": 73,
   "metadata": {},
   "outputs": [],
   "source": [
    "\n",
    "from IPython.core.magic import register_cell_magic\n",
    "from IPython.display import IFrame\n",
    "import IPython\n",
    "#IPython.OutputArea.auto_scroll_threshold = 7200;\n",
    "\n",
    "TEMPLATE = \"\"\"\n",
    "<html>\n",
    "<head>\n",
    "<script src=\"https://cdnjs.cloudflare.com/ajax/libs/p5.js/1.4.0/p5.js\"></script>\n",
    "<script src=\"https://cdnjs.cloudflare.com/ajax/libs/p5.js/1.4.0/addons/p5.dom.js\"></script>\n",
    "<script src=\"https://cdnjs.cloudflare.com/ajax/libs/p5.js/1.4.0/addons/p5.sound.js\"></script>\n",
    "\n",
    "</head>\n",
    "<body>\n",
    "<style>div.output_scroll { height: 144em; }</style>\n",
    "<h3>Script: %(name)s</h3>\n",
    "<script>\n",
    "%(script)s\n",
    "</script>\n",
    "</body>\n",
    "</html>\n",
    "\"\"\"\n",
    "\n",
    "COUNT = 0\n",
    "\n",
    "@register_cell_magic\n",
    "def p5(line, cell):\n",
    "    global COUNT\n",
    "    filename = \"p5-%s.html\" % COUNT\n",
    "    filename =\"turtles.html\"\n",
    "    COUNT += 1\n",
    "    with open(filename, \"w\") as fp:\n",
    "        fp.write(TEMPLATE % {\"script\": cell, \"name\": filename})\n",
    "    return IFrame(filename, width=\"100%\", height=\"500\")\n",
    "\n",
    "del p5"
   ]
  },
  {
   "cell_type": "code",
   "execution_count": null,
   "metadata": {},
   "outputs": [],
   "source": []
  },
  {
   "cell_type": "code",
   "execution_count": null,
   "metadata": {},
   "outputs": [],
   "source": []
  }
 ],
 "metadata": {
  "kernelspec": {
   "display_name": "Python 3 (ipykernel)",
   "language": "python",
   "name": "python3"
  },
  "language_info": {
   "codemirror_mode": {
    "name": "ipython",
    "version": 3
   },
   "file_extension": ".py",
   "mimetype": "text/x-python",
   "name": "python",
   "nbconvert_exporter": "python",
   "pygments_lexer": "ipython3",
   "version": "3.8.12"
  }
 },
 "nbformat": 4,
 "nbformat_minor": 1
}
